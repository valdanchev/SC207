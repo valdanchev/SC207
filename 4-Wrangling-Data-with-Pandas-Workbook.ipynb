{
 "cells": [
  {
   "cell_type": "markdown",
   "metadata": {},
   "source": [
    "# Wrangling Data with `pandas`\n",
    "***\n",
    "SC207 Social Data Science, University of Essex, 2021/2022"
   ]
  },
  {
   "cell_type": "markdown",
   "metadata": {},
   "source": [
    "## This Jupyter Notebook\n",
    "* A hands-on tutorial on how to load, describe, access, and summarise data with the Python package `pandas` using a real worl data set.\n",
    "* Analysis of the [Google COVID-19 Community Mobility Reports](https://www.google.com/covid19/mobility/), a large anonimised and open data set of aggreagate mobility trends tracing how global communities respond to Covid-19. \n",
    "* Real-world examples and understanding of local mobility trends in the United Kingdom and Essex in comparison to other countries and counties.\n",
    "* Open and reproducible research workflow."
   ]
  },
  {
   "cell_type": "markdown",
   "metadata": {},
   "source": [
    "### Python tools for data analysis\n",
    "\n",
    "The Python data science community have developed an open source ecosystem of libraries for data science, including the `pandas` for data loading, wrangling, and analysis, the `seaborn` library for data visualisation, and many other [data science libraries](https://github.com/krzjoa/awesome-python-data-science#data-manipulation). Think about Python libraries as tools that allow you to do data science tasks at easy, with minimal programming requirements, while focusing on scalable and reproducible analysis of social data."
   ]
  },
  {
   "cell_type": "markdown",
   "metadata": {},
   "source": [
    "### Getting started with [`pandas`](https://pandas.pydata.org/docs/getting_started/index.html#getting-started)\n",
    "\n",
    "The `pandas` library:\n",
    "* is a fast, powerful, and flexible open source tool for doing real world data analysis in Python.\n",
    "* offers a diverse range of high-performance tools for data loading, cleaning, wrangling, merging, reshaping,  and summarising.\n",
    "* is the go-to data sceince library in Python."
   ]
  },
  {
   "cell_type": "markdown",
   "metadata": {},
   "source": [
    "<img src=\"https://upload.wikimedia.org/wikipedia/commons/e/ed/Pandas_logo.svg\" title='Pandas Logo' width=\"400\" height=\"200\"/>"
   ]
  },
  {
   "cell_type": "markdown",
   "metadata": {},
   "source": [
    "### Dataset: Google Covid-19 Community Mobility Reports (GCMR)\n",
    "* Aggregated, anonymized sets of data that protect individual privacy.\n",
    "* Shows trends of human mobility over time by country and region, across different categories of places, including retail and recreation, groceries and pharmacies, parks, transit stations, workplaces, and residential. \n",
    "* For each place in a region, the data display the percentage change in visits for the reported date compared to a baseline day. Mobility changes are reported as a positive or negative percentage. An overview of the data from the Community Mobility Reports is provided [here](https://support.google.com/covid19-mobility/answer/9824897?hl=en&ref_topic=9822927).\n",
    "* Provides an opportunity to explore how mobility trends have changed as a response to non-pharmaceutical public health interventions (e.g., lockdowns, school closure)  designed to reduce the spread of Covid-19.\n",
    "\n",
    "<img src=\"https://www.google.com/covid19/static/reports-icon-grid.png\" title='Google Covid-19 Community Mobility Data' width=\"400\" height=\"200\"/>"
   ]
  },
  {
   "cell_type": "markdown",
   "metadata": {},
   "source": [
    "## Importing the `pandas` library\n",
    "\n",
    "We first import the `pandas` library and, by convention, give it the alias `pd`."
   ]
  },
  {
   "cell_type": "code",
   "execution_count": null,
   "metadata": {},
   "outputs": [],
   "source": [
    "# We import the pandas library via the Python's import command\n",
    "import pandas as pd\n",
    "pd.__version__ # For reproducibility, we also check the version of the library "
   ]
  },
  {
   "cell_type": "markdown",
   "metadata": {},
   "source": [
    "We can now access all the functions and capabilities the `pandas` library provides."
   ]
  },
  {
   "cell_type": "markdown",
   "metadata": {},
   "source": [
    "## Loading your data"
   ]
  },
  {
   "cell_type": "markdown",
   "metadata": {},
   "source": [
    "Pandas supports many data file formats, including csv, excel, sql, json.\n",
    "For details, see [How do I read and write tabular data?](https://pandas.pydata.org/docs/getting_started/intro_tutorials/02_read_write.html#min-tut-02-read-write)"
   ]
  },
  {
   "cell_type": "markdown",
   "metadata": {},
   "source": [
    "<img src=\"https://pandas.pydata.org/docs/_images/02_io_readwrite.svg\" width=\"800\" height=\"400\" >"
   ]
  },
  {
   "cell_type": "markdown",
   "metadata": {},
   "source": [
    "### Loading data from the Web\n",
    "\n",
    "To load the Covid-19 Community Mobility Reports data, there is no need to download the file on your local computer. Because the data set is provided as a comma-separated values (.csv) file, we just call the `read_csv()` function in `pandas` and specify the URL. \n",
    "\n",
    "\n",
    "### What is a (`pandas`) function?\n",
    "\n",
    "A function is a block of code that:\n",
    "\n",
    "* takes input parameters\n",
    "* performs a specific task\n",
    "* returns an output.\n",
    "\n",
    "The `pandas` function `read_csv()` will take as an input parameter a comma-separated values (csv) file, read the file, and return Pandas DataFrame.\n",
    "\n",
    "We call a function by writing the function name followed by parenthesis. The function `read_csv()` takes many input parameters, for example\n",
    "\n",
    "* `sep` — delimeter to use when reading the file; default is *,* but other possible delimeters include *tab* characters or space characters.\n",
    "* `parse_dates` — a column to be parsed as date and time.\n",
    "\n",
    "### Getting help when needed\n",
    "\n",
    "To learn more about a function, you use a question mark ?. For example, to access help information about the function Pandas function `read_csv()`, you type in\n"
   ]
  },
  {
   "cell_type": "raw",
   "metadata": {
    "tags": []
   },
   "source": [
    "pd.read_csv?"
   ]
  },
  {
   "cell_type": "markdown",
   "metadata": {
    "tags": []
   },
   "source": [
    "The code below loads the most recent online version of the data. We also assign the loaded data set to a variable called `mobility_trends_df`."
   ]
  },
  {
   "cell_type": "code",
   "execution_count": null,
   "metadata": {},
   "outputs": [],
   "source": [
    "# The code below loads the most recent online version of the data\n",
    "\n",
    "mobility_trends_df = pd.read_csv('https://www.gstatic.com/covid19/mobility/Global_Mobility_Report.csv', parse_dates = ['date'])\n",
    "\n",
    "# Pandas represents tabular data as a DataFrame\n",
    "mobility_trends_df"
   ]
  },
  {
   "cell_type": "markdown",
   "metadata": {},
   "source": [
    "#### Loading data from your local computer"
   ]
  },
  {
   "cell_type": "code",
   "execution_count": null,
   "metadata": {},
   "outputs": [],
   "source": [
    "# The same read_csv function can be used to load the file Global_Mobility_Report.csv from your computer \n",
    "# Prerequisite: the file needs to be pre-downloaded from https://www.google.com/covid19/mobility/\n",
    "# Replace 'Downloads' with the actual folder in which the file is stored in your computer\n",
    "\n",
    "# mobility_trends_downloaded = pd.read_csv('~/Downloads/Global_Mobility_Report.csv')"
   ]
  },
  {
   "cell_type": "markdown",
   "metadata": {},
   "source": [
    "### Pandas DataFrame"
   ]
  },
  {
   "cell_type": "markdown",
   "metadata": {},
   "source": [
    "['A DataFrame is a 2-dimensional data structure that can store data of different types (including characters, integers, floating point values, categorical data and more) in columns.'](https://pandas.pydata.org/docs/getting_started/intro_tutorials/01_table_oriented.html#min-tut-01-tableoriented)\n",
    "\n",
    "<img src=\"https://pandas.pydata.org/docs/_images/01_table_dataframe.svg\" title='Pandas DataFrame' width=\"400\" height=\"200\"/>"
   ]
  },
  {
   "cell_type": "markdown",
   "metadata": {},
   "source": [
    "## Viewing, Describing, and Accessing your Data"
   ]
  },
  {
   "cell_type": "markdown",
   "metadata": {},
   "source": [
    "### Viewing data"
   ]
  },
  {
   "cell_type": "code",
   "execution_count": null,
   "metadata": {},
   "outputs": [],
   "source": [
    "# Show the first five rows using the method DataFrame.head()\n",
    "mobility_trends_df.head()"
   ]
  },
  {
   "cell_type": "code",
   "execution_count": null,
   "metadata": {},
   "outputs": [],
   "source": [
    "# Show the last five rows using the method DataFrame.tail()   \n",
    "mobility_trends_df.tail()"
   ]
  },
  {
   "cell_type": "code",
   "execution_count": null,
   "metadata": {},
   "outputs": [],
   "source": [
    "# Specify the number of rows to return\n",
    "mobility_trends_df.tail(10)"
   ]
  },
  {
   "cell_type": "markdown",
   "metadata": {},
   "source": [
    "> # Try on your own—Exercise 1\n",
    "\n",
    "Using the DataFrame `mobility_trends_df`, view the \n",
    "* top 20 rows\n",
    "* last 30 rows"
   ]
  },
  {
   "cell_type": "code",
   "execution_count": null,
   "metadata": {},
   "outputs": [],
   "source": [
    "# Please write the code related to Exercise 1 in this cell   \n",
    "\n",
    "\n",
    "\n",
    "\n"
   ]
  },
  {
   "cell_type": "markdown",
   "metadata": {},
   "source": [
    "### Describing your DataFrame"
   ]
  },
  {
   "cell_type": "code",
   "execution_count": null,
   "metadata": {},
   "outputs": [],
   "source": [
    "# Accessing columns using the DataFrame.columns attribute\n",
    "mobility_trends_df.columns"
   ]
  },
  {
   "cell_type": "code",
   "execution_count": null,
   "metadata": {},
   "outputs": [],
   "source": [
    "# Accessing the index using the DataFrame.index attribute\n",
    "mobility_trends_df.index"
   ]
  },
  {
   "cell_type": "code",
   "execution_count": null,
   "metadata": {},
   "outputs": [],
   "source": [
    "# Accessing the values using the DataFrame.values attribute \n",
    "mobility_trends_df.values"
   ]
  },
  {
   "cell_type": "code",
   "execution_count": null,
   "metadata": {},
   "outputs": [],
   "source": [
    "# Type of data structure\n",
    "type(mobility_trends_df)"
   ]
  },
  {
   "cell_type": "code",
   "execution_count": null,
   "metadata": {},
   "outputs": [],
   "source": [
    "# Dimensionality of a DataFrame  \n",
    "\n",
    "mobility_trends_df.shape"
   ]
  },
  {
   "cell_type": "code",
   "execution_count": null,
   "metadata": {},
   "outputs": [],
   "source": [
    "# Use the print function to display the number of rows and columns in a DataFrame \n",
    "print(\"\\nThe Google COVID-19 Community Mobility Reports contain\", \n",
    "      mobility_trends_df.shape[0], \"rows and\", mobility_trends_df.shape[1],\"columns.\")"
   ]
  },
  {
   "cell_type": "code",
   "execution_count": null,
   "metadata": {},
   "outputs": [],
   "source": [
    "# Information about a DataFrame\n",
    "mobility_trends_df.info()"
   ]
  },
  {
   "cell_type": "markdown",
   "metadata": {},
   "source": [
    "### Accessing columns and rows in your data"
   ]
  },
  {
   "cell_type": "markdown",
   "metadata": {},
   "source": [
    "#### Accessing columns\n",
    "We can access columns via column name and column position."
   ]
  },
  {
   "cell_type": "markdown",
   "metadata": {},
   "source": [
    "*Accessing columns via column name*"
   ]
  },
  {
   "cell_type": "code",
   "execution_count": null,
   "metadata": {},
   "outputs": [],
   "source": [
    "# Get the country column and save it to its own variable\n",
    "# The double square bracket option `[[]]` gives DataFrame\n",
    "mobility_trends_df_country = mobility_trends_df[['country_region']]"
   ]
  },
  {
   "cell_type": "code",
   "execution_count": null,
   "metadata": {},
   "outputs": [],
   "source": [
    "# Display the top five rows\n",
    "mobility_trends_df_country.head()"
   ]
  },
  {
   "cell_type": "code",
   "execution_count": null,
   "metadata": {},
   "outputs": [],
   "source": [
    "# Display the type of data structure\n",
    "type(mobility_trends_df_country)"
   ]
  },
  {
   "cell_type": "code",
   "execution_count": null,
   "metadata": {},
   "outputs": [],
   "source": [
    "# The single square braket `[]` option gives Series\n",
    "mobility_trends_df_country = mobility_trends_df['country_region']\n",
    "mobility_trends_df_country.head()"
   ]
  },
  {
   "cell_type": "code",
   "execution_count": null,
   "metadata": {},
   "outputs": [],
   "source": [
    "# Display the type of data structure\n",
    "type(mobility_trends_df_country)"
   ]
  },
  {
   "cell_type": "code",
   "execution_count": null,
   "metadata": {},
   "outputs": [],
   "source": [
    "# Accessing more than one column by using Python list syntax\n",
    "mobility_trends_df_country_region_date = mobility_trends_df[['country_region', 'sub_region_1', 'date']]"
   ]
  },
  {
   "cell_type": "code",
   "execution_count": null,
   "metadata": {
    "scrolled": true
   },
   "outputs": [],
   "source": [
    "# Display the top five rows\n",
    "mobility_trends_df_country_region_date.head()"
   ]
  },
  {
   "cell_type": "markdown",
   "metadata": {},
   "source": [
    "---"
   ]
  },
  {
   "cell_type": "markdown",
   "metadata": {},
   "source": [
    "> # Try on your own—Exercise 2\n",
    "Access the column `country_region_code` from the DataFrame `mobility_trends_df`"
   ]
  },
  {
   "cell_type": "code",
   "execution_count": null,
   "metadata": {},
   "outputs": [],
   "source": [
    "# Please write the code related to Exercise 2 in this cell   \n",
    "\n",
    "\n",
    "\n",
    "\n"
   ]
  },
  {
   "cell_type": "markdown",
   "metadata": {},
   "source": [
    "---"
   ]
  },
  {
   "cell_type": "markdown",
   "metadata": {},
   "source": [
    "*Accessing columns via column position*"
   ]
  },
  {
   "cell_type": "code",
   "execution_count": null,
   "metadata": {},
   "outputs": [],
   "source": [
    "# Accessing columns via column position\n",
    "mobility_trends_df_country_region_date = mobility_trends_df.iloc[:, [1, 2, 8]]\n",
    "\n",
    "# Display the top five rows\n",
    "mobility_trends_df_country_region_date.head()"
   ]
  },
  {
   "cell_type": "code",
   "execution_count": null,
   "metadata": {},
   "outputs": [],
   "source": [
    "# Accessing a subset of rows and columns\n",
    "mobility_trends_df_country_region_date_3rows = mobility_trends_df.iloc[0:3, [1, 2, 8]]\n",
    "mobility_trends_df_country_region_date_3rows.head()"
   ]
  },
  {
   "cell_type": "markdown",
   "metadata": {},
   "source": [
    "#### Accessing rows\n",
    "\n",
    "Rows can be accessed via row labels `df.loc` and row index `df.iloc`"
   ]
  },
  {
   "cell_type": "code",
   "execution_count": null,
   "metadata": {},
   "outputs": [],
   "source": [
    "# Before accessing particular rows, let's see the names of all countries in the dataset \n",
    "# by listing all unique values in the df['country_region'] column\n",
    "mobility_trends_df.country_region.unique()"
   ]
  },
  {
   "cell_type": "code",
   "execution_count": null,
   "metadata": {},
   "outputs": [],
   "source": [
    "# Accessing specific rows from a DataFrame\n",
    "# We are interested in the data about the United Kingdom \n",
    "mobility_trends_df_country_UK = mobility_trends_df[mobility_trends_df['country_region']=='United Kingdom']\n",
    "mobility_trends_df_country_UK.head()"
   ]
  },
  {
   "cell_type": "code",
   "execution_count": null,
   "metadata": {},
   "outputs": [],
   "source": [
    "mobility_trends_df_country_UK.tail()"
   ]
  },
  {
   "cell_type": "code",
   "execution_count": null,
   "metadata": {},
   "outputs": [],
   "source": [
    "# Accessing data about multiple countries \n",
    "mobility_trends_df_countries = mobility_trends_df[mobility_trends_df['country_region'].isin(['United Kingdom', 'Germany', 'Italy', 'Sweden'])]\n",
    "mobility_trends_df_countries.head()"
   ]
  },
  {
   "cell_type": "code",
   "execution_count": null,
   "metadata": {},
   "outputs": [],
   "source": [
    "# Filter by two conditions — country and county — simultenously\n",
    "# First let's see the list of counties in the dataset\n",
    "mobility_trends_df_country_UK.sub_region_1.unique()"
   ]
  },
  {
   "cell_type": "code",
   "execution_count": null,
   "metadata": {},
   "outputs": [],
   "source": [
    "# Access data about UK and Essex\n",
    "mobility_trends_df_country_UK_county_Essex = mobility_trends_df[(mobility_trends_df['country_region'] == 'United Kingdom') & \n",
    "                                 (mobility_trends_df['sub_region_1']=='Essex')]"
   ]
  },
  {
   "cell_type": "code",
   "execution_count": null,
   "metadata": {},
   "outputs": [],
   "source": [
    "mobility_trends_df_country_UK_county_Essex.head()"
   ]
  },
  {
   "cell_type": "markdown",
   "metadata": {},
   "source": [
    "---"
   ]
  },
  {
   "cell_type": "markdown",
   "metadata": {},
   "source": [
    "> # Try on your own—Exercise 3\n",
    "Access all rows about `Greater London`"
   ]
  },
  {
   "cell_type": "code",
   "execution_count": null,
   "metadata": {},
   "outputs": [],
   "source": [
    "# Please write the code related to Exercise 3 in this cell\n",
    "\n",
    "\n",
    "\n",
    "\n"
   ]
  },
  {
   "cell_type": "markdown",
   "metadata": {},
   "source": [
    "---"
   ]
  },
  {
   "cell_type": "markdown",
   "metadata": {},
   "source": [
    "#### Accessing multiple rows and columns and conditioning"
   ]
  },
  {
   "cell_type": "code",
   "execution_count": null,
   "metadata": {},
   "outputs": [],
   "source": [
    "# Let's see which UK counties had the lower retail and recreation mobility the day after Italy went in lockdown\n",
    "mobility_trends_df_UK_mobility1003=mobility_trends_df_country_UK.loc[(mobility_trends_df_country_UK['date']=='2020-03-10') &\n",
    "                                       (mobility_trends_df_country_UK['retail_and_recreation_percent_change_from_baseline']<0),\n",
    "                                       ['sub_region_1','retail_and_recreation_percent_change_from_baseline']]\n",
    "\n",
    "# Sort in decreasing order\n",
    "mobility_trends_df_UK_mobility1003.sort_values(by='retail_and_recreation_percent_change_from_baseline', ascending=True)"
   ]
  },
  {
   "cell_type": "code",
   "execution_count": null,
   "metadata": {},
   "outputs": [],
   "source": [
    "# UK counties with the lower retail and recreation the day after UK went in lockdown in March 2020\n",
    "mobility_trends_df_UK_mobility2403=mobility_trends_df_country_UK.loc[(mobility_trends_df_country_UK['date']=='2020-03-24') & \n",
    "                                       (mobility_trends_df_country_UK['retail_and_recreation_percent_change_from_baseline']<0), \n",
    "                                       ['sub_region_1','retail_and_recreation_percent_change_from_baseline']]\n",
    "\n",
    "# Sort in decreasing order\n",
    "mobility_trends_df_UK_mobility2403.sort_values(by='retail_and_recreation_percent_change_from_baseline', ascending=True)"
   ]
  },
  {
   "cell_type": "markdown",
   "metadata": {},
   "source": [
    "## Summarising your data"
   ]
  },
  {
   "cell_type": "code",
   "execution_count": null,
   "metadata": {},
   "outputs": [],
   "source": [
    "# For each country, find the maximum value of visits to retail and recriation compared to baseline \n",
    "mobility_trends_df.groupby(\"country_region\") \\\n",
    "    [\"retail_and_recreation_percent_change_from_baseline\"].max() \\\n",
    "    .sort_values(ascending=False)"
   ]
  },
  {
   "cell_type": "code",
   "execution_count": null,
   "metadata": {},
   "outputs": [],
   "source": [
    "# For each country, find the mean value of visits to retail and recriation compared to baseline\n",
    "mobility_trends_df_retail=mobility_trends_df.groupby('country_region') \\\n",
    "    ['retail_and_recreation_percent_change_from_baseline'].mean() \\\n",
    "    .sort_values(ascending=False)\n",
    "mobility_trends_df_retail"
   ]
  },
  {
   "cell_type": "code",
   "execution_count": null,
   "metadata": {},
   "outputs": [],
   "source": [
    "# Type of data structure\n",
    "type(mobility_trends_df_retail)"
   ]
  },
  {
   "cell_type": "code",
   "execution_count": null,
   "metadata": {},
   "outputs": [],
   "source": [
    "# Find mean value of mobility in retail and recreation in Italy \n",
    "mobility_trends_df_retail.loc['Italy']"
   ]
  },
  {
   "cell_type": "markdown",
   "metadata": {},
   "source": [
    "---"
   ]
  },
  {
   "cell_type": "markdown",
   "metadata": {},
   "source": [
    "> # Try on your own—Exercise 4\n",
    "Find mean value of mobility in `workplace` in the `United Kingdom`"
   ]
  },
  {
   "cell_type": "code",
   "execution_count": null,
   "metadata": {},
   "outputs": [],
   "source": [
    "# Please write the code related to Exercise 4 in this cell\n",
    "\n",
    "\n",
    "\n"
   ]
  },
  {
   "cell_type": "markdown",
   "metadata": {},
   "source": [
    "---"
   ]
  },
  {
   "cell_type": "markdown",
   "metadata": {},
   "source": [
    "## Acknowledgements\n",
    "* Wes McKinney. 2017. Python for Data Analysis: Data Wrangling with Pandas, NumPy, and IPython.\n",
    "* Daniel Chen. 2017. Pandas for Everyone: Python Data Analysis.\n",
    "* Manuel Amunategui. 2020. COVID-19 Community Mobility Reports From Google and Apple - Available to All - Explore with Python. "
   ]
  }
 ],
 "metadata": {
  "kernelspec": {
   "display_name": "Python 3 (ipykernel)",
   "language": "python",
   "name": "python3"
  },
  "language_info": {
   "codemirror_mode": {
    "name": "ipython",
    "version": 3
   },
   "file_extension": ".py",
   "mimetype": "text/x-python",
   "name": "python",
   "nbconvert_exporter": "python",
   "pygments_lexer": "ipython3",
   "version": "3.8.12"
  }
 },
 "nbformat": 4,
 "nbformat_minor": 4
}
